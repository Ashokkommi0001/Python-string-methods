{
 "cells": [
  {
   "cell_type": "code",
   "execution_count": 1,
   "id": "mounted-canada",
   "metadata": {},
   "outputs": [
    {
     "data": {
      "text/plain": [
       "'Hi good morning everyone'"
      ]
     },
     "execution_count": 1,
     "metadata": {},
     "output_type": "execute_result"
    }
   ],
   "source": [
    "#capitalize\n",
    "a=\"hi good morning everyone\"\n",
    "a.capitalize()"
   ]
  },
  {
   "cell_type": "code",
   "execution_count": 2,
   "id": "thousand-variance",
   "metadata": {},
   "outputs": [
    {
     "data": {
      "text/plain": [
       "'Hi good morning'"
      ]
     },
     "execution_count": 2,
     "metadata": {},
     "output_type": "execute_result"
    }
   ],
   "source": [
    "a=\"hi Good Morning\"\n",
    "a.capitalize()"
   ]
  },
  {
   "cell_type": "code",
   "execution_count": 3,
   "id": "smooth-bench",
   "metadata": {},
   "outputs": [
    {
     "name": "stdout",
     "output_type": "stream",
     "text": [
      "Old string: python is Awesome.\n",
      "capitalize_string: Python is awesome.\n"
     ]
    }
   ],
   "source": [
    "string=\"python is Awesome.\"\n",
    "cap_string=string.capitalize()\n",
    "print(\"Old string:\", string)\n",
    "print(\"capitalize_string:\", cap_string)"
   ]
  },
  {
   "cell_type": "markdown",
   "id": "lesser-pastor",
   "metadata": {},
   "source": []
  },
  {
   "cell_type": "code",
   "execution_count": 4,
   "id": "bright-emergency",
   "metadata": {},
   "outputs": [],
   "source": [
    "#casefold"
   ]
  },
  {
   "cell_type": "code",
   "execution_count": 5,
   "id": "representative-botswana",
   "metadata": {},
   "outputs": [
    {
     "data": {
      "text/plain": [
       "'hi ashok, how r u'"
      ]
     },
     "execution_count": 5,
     "metadata": {},
     "output_type": "execute_result"
    }
   ],
   "source": [
    "a=\"Hi ASHOK, how r u\"\n",
    "a.casefold()"
   ]
  },
  {
   "cell_type": "code",
   "execution_count": 6,
   "id": "competent-vienna",
   "metadata": {},
   "outputs": [
    {
     "data": {
      "text/plain": [
       "17"
      ]
     },
     "execution_count": 6,
     "metadata": {},
     "output_type": "execute_result"
    }
   ],
   "source": [
    "len(a)"
   ]
  },
  {
   "cell_type": "code",
   "execution_count": 7,
   "id": "heated-pocket",
   "metadata": {},
   "outputs": [
    {
     "data": {
      "text/plain": [
       "'hi ashok, good morning'"
      ]
     },
     "execution_count": 7,
     "metadata": {},
     "output_type": "execute_result"
    }
   ],
   "source": [
    "b=\"HI ASHOK, GOOD morning\"\n",
    "b.casefold()"
   ]
  },
  {
   "cell_type": "code",
   "execution_count": 8,
   "id": "breathing-ribbon",
   "metadata": {},
   "outputs": [
    {
     "name": "stdout",
     "output_type": "stream",
     "text": [
      "Lowercase string: python is good\n"
     ]
    }
   ],
   "source": [
    "string=\"PYTHON IS good\"\n",
    "print(\"Lowercase string:\", string.casefold())"
   ]
  },
  {
   "cell_type": "code",
   "execution_count": 9,
   "id": "disciplinary-leader",
   "metadata": {},
   "outputs": [],
   "source": [
    "#center"
   ]
  },
  {
   "cell_type": "code",
   "execution_count": 10,
   "id": "least-genealogy",
   "metadata": {},
   "outputs": [
    {
     "name": "stdout",
     "output_type": "stream",
     "text": [
      "Center string:        python is super        \n"
     ]
    }
   ],
   "source": [
    "a=\"python is super\"\n",
    "len(a)\n",
    "new_string=a.center(30)\n",
    "print(\"Center string:\", new_string)"
   ]
  },
  {
   "cell_type": "code",
   "execution_count": 11,
   "id": "victorian-retail",
   "metadata": {},
   "outputs": [
    {
     "ename": "TypeError",
     "evalue": "center expected at least 1 argument, got 0",
     "output_type": "error",
     "traceback": [
      "\u001b[1;31m---------------------------------------------------------------------------\u001b[0m",
      "\u001b[1;31mTypeError\u001b[0m                                 Traceback (most recent call last)",
      "\u001b[1;32m<ipython-input-11-2d1f22880f30>\u001b[0m in \u001b[0;36m<module>\u001b[1;34m\u001b[0m\n\u001b[1;32m----> 1\u001b[1;33m \u001b[0ma\u001b[0m\u001b[1;33m.\u001b[0m\u001b[0mcenter\u001b[0m\u001b[1;33m(\u001b[0m\u001b[1;33m)\u001b[0m    \u001b[1;31m#it returns error\u001b[0m\u001b[1;33m\u001b[0m\u001b[1;33m\u001b[0m\u001b[0m\n\u001b[0m",
      "\u001b[1;31mTypeError\u001b[0m: center expected at least 1 argument, got 0"
     ]
    }
   ],
   "source": [
    "a.center()    #it returns error"
   ]
  },
  {
   "cell_type": "code",
   "execution_count": 12,
   "id": "elect-parker",
   "metadata": {},
   "outputs": [
    {
     "data": {
      "text/plain": [
       "'     python is super     '"
      ]
     },
     "execution_count": 12,
     "metadata": {},
     "output_type": "execute_result"
    }
   ],
   "source": [
    "a.center(25)"
   ]
  },
  {
   "cell_type": "code",
   "execution_count": 13,
   "id": "ranking-england",
   "metadata": {},
   "outputs": [],
   "source": [
    "#count"
   ]
  },
  {
   "cell_type": "code",
   "execution_count": 14,
   "id": "present-potential",
   "metadata": {},
   "outputs": [
    {
     "data": {
      "text/plain": [
       "3"
      ]
     },
     "execution_count": 14,
     "metadata": {},
     "output_type": "execute_result"
    }
   ],
   "source": [
    "a=\"hi this is python\"\n",
    "a.count(\"i\")"
   ]
  },
  {
   "cell_type": "code",
   "execution_count": 15,
   "id": "previous-teaching",
   "metadata": {},
   "outputs": [
    {
     "data": {
      "text/plain": [
       "1"
      ]
     },
     "execution_count": 15,
     "metadata": {},
     "output_type": "execute_result"
    }
   ],
   "source": [
    "a.count(\"python\")"
   ]
  },
  {
   "cell_type": "code",
   "execution_count": 16,
   "id": "processed-colombia",
   "metadata": {},
   "outputs": [
    {
     "name": "stdout",
     "output_type": "stream",
     "text": [
      "2\n"
     ]
    }
   ],
   "source": [
    "string=\"Python is awesome, isn't it?\"\n",
    "substring=\"is\"\n",
    "count=string.count(substring)\n",
    "print(count)"
   ]
  },
  {
   "cell_type": "code",
   "execution_count": 17,
   "id": "vertical-confidence",
   "metadata": {},
   "outputs": [
    {
     "data": {
      "text/plain": [
       "2"
      ]
     },
     "execution_count": 17,
     "metadata": {},
     "output_type": "execute_result"
    }
   ],
   "source": [
    "string.count(\"is\")"
   ]
  },
  {
   "cell_type": "code",
   "execution_count": 18,
   "id": "prepared-fetish",
   "metadata": {},
   "outputs": [],
   "source": [
    "#encode"
   ]
  },
  {
   "cell_type": "code",
   "execution_count": 19,
   "id": "disturbed-arrow",
   "metadata": {},
   "outputs": [
    {
     "data": {
      "text/plain": [
       "'Ā'"
      ]
     },
     "execution_count": 19,
     "metadata": {},
     "output_type": "execute_result"
    }
   ],
   "source": [
    "chr(256)"
   ]
  },
  {
   "cell_type": "code",
   "execution_count": 20,
   "id": "burning-newton",
   "metadata": {},
   "outputs": [
    {
     "data": {
      "text/plain": [
       "b'welcome to python \\xc4\\x80shok'"
      ]
     },
     "execution_count": 20,
     "metadata": {},
     "output_type": "execute_result"
    }
   ],
   "source": [
    "a=\"welcome to python Āshok\"\n",
    "a.encode()"
   ]
  },
  {
   "cell_type": "code",
   "execution_count": 21,
   "id": "tribal-fiber",
   "metadata": {},
   "outputs": [],
   "source": [
    "#endswith"
   ]
  },
  {
   "cell_type": "code",
   "execution_count": 22,
   "id": "former-steal",
   "metadata": {},
   "outputs": [
    {
     "data": {
      "text/plain": [
       "False"
      ]
     },
     "execution_count": 22,
     "metadata": {},
     "output_type": "execute_result"
    }
   ],
   "source": [
    "a=\"Python is easy to learn.\"\n",
    "a.endswith(\"learn\")"
   ]
  },
  {
   "cell_type": "code",
   "execution_count": 23,
   "id": "expired-yeast",
   "metadata": {},
   "outputs": [
    {
     "data": {
      "text/plain": [
       "False"
      ]
     },
     "execution_count": 23,
     "metadata": {},
     "output_type": "execute_result"
    }
   ],
   "source": [
    "a=\"Python is easy to learn.\"\n",
    "a.endswith(\"python\")"
   ]
  },
  {
   "cell_type": "code",
   "execution_count": 24,
   "id": "lucky-medline",
   "metadata": {},
   "outputs": [
    {
     "data": {
      "text/plain": [
       "True"
      ]
     },
     "execution_count": 24,
     "metadata": {},
     "output_type": "execute_result"
    }
   ],
   "source": [
    "a=\"Python is easy to learn.\"\n",
    "a.endswith(\"learn.\")"
   ]
  },
  {
   "cell_type": "code",
   "execution_count": 25,
   "id": "protective-donor",
   "metadata": {},
   "outputs": [
    {
     "data": {
      "text/plain": [
       "True"
      ]
     },
     "execution_count": 25,
     "metadata": {},
     "output_type": "execute_result"
    }
   ],
   "source": [
    "a=\"Python is easy to learn.\"\n",
    "a.endswith(\".\")"
   ]
  },
  {
   "cell_type": "code",
   "execution_count": 26,
   "id": "about-medicaid",
   "metadata": {},
   "outputs": [],
   "source": [
    "#expandtabs"
   ]
  },
  {
   "cell_type": "code",
   "execution_count": 27,
   "id": "differential-prophet",
   "metadata": {},
   "outputs": [
    {
     "data": {
      "text/plain": [
       "'ashok    good morning'"
      ]
     },
     "execution_count": 27,
     "metadata": {},
     "output_type": "execute_result"
    }
   ],
   "source": [
    "a=\"ashok \\t good morning\"\n",
    "a.expandtabs()"
   ]
  },
  {
   "cell_type": "code",
   "execution_count": 28,
   "id": "packed-entertainment",
   "metadata": {},
   "outputs": [
    {
     "data": {
      "text/plain": [
       "'ashok                          good morning'"
      ]
     },
     "execution_count": 28,
     "metadata": {},
     "output_type": "execute_result"
    }
   ],
   "source": [
    "a=\"ashok \\t good morning\"\n",
    "a.expandtabs(30)"
   ]
  },
  {
   "cell_type": "code",
   "execution_count": 29,
   "id": "athletic-hypothetical",
   "metadata": {},
   "outputs": [
    {
     "data": {
      "text/plain": [
       "'ashok    good morning'"
      ]
     },
     "execution_count": 29,
     "metadata": {},
     "output_type": "execute_result"
    }
   ],
   "source": [
    "a=\"ashok\\t good morning\"\n",
    "a.expandtabs()"
   ]
  },
  {
   "cell_type": "code",
   "execution_count": 30,
   "id": "young-friday",
   "metadata": {},
   "outputs": [
    {
     "data": {
      "text/plain": [
       "'ashok   good morning'"
      ]
     },
     "execution_count": 30,
     "metadata": {},
     "output_type": "execute_result"
    }
   ],
   "source": [
    "a=\"ashok \\tgood morning\"\n",
    "a.expandtabs()"
   ]
  },
  {
   "cell_type": "code",
   "execution_count": 31,
   "id": "loved-warner",
   "metadata": {},
   "outputs": [
    {
     "data": {
      "text/plain": [
       "'ashok            good morning'"
      ]
     },
     "execution_count": 31,
     "metadata": {},
     "output_type": "execute_result"
    }
   ],
   "source": [
    "a=\"ashok \\t     \\t good morning\"\n",
    "a.expandtabs()"
   ]
  },
  {
   "cell_type": "code",
   "execution_count": 32,
   "id": "designing-shield",
   "metadata": {},
   "outputs": [
    {
     "name": "stdout",
     "output_type": "stream",
     "text": [
      "xyz                           1234                          abc\n"
     ]
    }
   ],
   "source": [
    "str=\"xyz\\t1234\\tabc\"\n",
    "result=str.expandtabs(30)\n",
    "print(result)"
   ]
  },
  {
   "cell_type": "code",
   "execution_count": 33,
   "id": "secret-package",
   "metadata": {},
   "outputs": [],
   "source": [
    "#find"
   ]
  },
  {
   "cell_type": "code",
   "execution_count": 34,
   "id": "therapeutic-olive",
   "metadata": {},
   "outputs": [
    {
     "data": {
      "text/plain": [
       "11"
      ]
     },
     "execution_count": 34,
     "metadata": {},
     "output_type": "execute_result"
    }
   ],
   "source": [
    "quote=\"Amaravathi is heart of Andhra Pradesh.\"\n",
    "quote.find(\"is\")"
   ]
  },
  {
   "cell_type": "code",
   "execution_count": 35,
   "id": "received-expense",
   "metadata": {},
   "outputs": [
    {
     "data": {
      "text/plain": [
       "34"
      ]
     },
     "execution_count": 35,
     "metadata": {},
     "output_type": "execute_result"
    }
   ],
   "source": [
    "quote=\"Amaravathi is heart of Andhra Pradesh.\"\n",
    "quote.find(\"esh\")"
   ]
  },
  {
   "cell_type": "code",
   "execution_count": 36,
   "id": "appropriate-sapphire",
   "metadata": {},
   "outputs": [
    {
     "data": {
      "text/plain": [
       "37"
      ]
     },
     "execution_count": 36,
     "metadata": {},
     "output_type": "execute_result"
    }
   ],
   "source": [
    "quote=\"Amaravathi is heart of Andhra Pradesh.\"\n",
    "quote.find(\".\")"
   ]
  },
  {
   "cell_type": "code",
   "execution_count": 37,
   "id": "traditional-brush",
   "metadata": {},
   "outputs": [
    {
     "data": {
      "text/plain": [
       "13"
      ]
     },
     "execution_count": 37,
     "metadata": {},
     "output_type": "execute_result"
    }
   ],
   "source": [
    "a=\"amravathi 35,23,50\"\n",
    "a.find(\"23\")"
   ]
  },
  {
   "cell_type": "code",
   "execution_count": 38,
   "id": "governing-piano",
   "metadata": {},
   "outputs": [],
   "source": [
    "#format"
   ]
  },
  {
   "cell_type": "code",
   "execution_count": 39,
   "id": "breathing-reunion",
   "metadata": {},
   "outputs": [
    {
     "name": "stdout",
     "output_type": "stream",
     "text": [
      "hi ashok, your bls is 100.\n"
     ]
    }
   ],
   "source": [
    "a=\"hi {}, your bls is {}.\".format(\"ashok\", \"100\")\n",
    "print(a)"
   ]
  },
  {
   "cell_type": "code",
   "execution_count": 40,
   "id": "finished-truck",
   "metadata": {},
   "outputs": [
    {
     "name": "stdout",
     "output_type": "stream",
     "text": [
      "hi ashok, your bls is 100.\n"
     ]
    }
   ],
   "source": [
    "a=\"hi {}, your bls is {}.\".format(\"ashok\", 100)\n",
    "print(a)"
   ]
  },
  {
   "cell_type": "code",
   "execution_count": 41,
   "id": "invalid-schema",
   "metadata": {},
   "outputs": [
    {
     "name": "stdout",
     "output_type": "stream",
     "text": [
      "hello ash your bls is 150.\n"
     ]
    }
   ],
   "source": [
    "b=\"hello {0} your bls is {1}.\".format(\"ash\", 150)\n",
    "print(b)"
   ]
  },
  {
   "cell_type": "code",
   "execution_count": 42,
   "id": "motivated-bulgarian",
   "metadata": {},
   "outputs": [
    {
     "name": "stdout",
     "output_type": "stream",
     "text": [
      "hello 150 your bls is ash.\n"
     ]
    }
   ],
   "source": [
    "b=\"hello {1} your bls is {0}.\".format(\"ash\", 150)\n",
    "print(b)"
   ]
  },
  {
   "cell_type": "code",
   "execution_count": 43,
   "id": "atomic-brush",
   "metadata": {},
   "outputs": [
    {
     "name": "stdout",
     "output_type": "stream",
     "text": [
      "hi ashok, are from bangalore.\n"
     ]
    }
   ],
   "source": [
    "c=\"hi {name}, are from {place}.\".format(name=\"ashok\", place=\"bangalore\")\n",
    "print(c)"
   ]
  },
  {
   "cell_type": "code",
   "execution_count": 46,
   "id": "peaceful-slope",
   "metadata": {},
   "outputs": [],
   "source": [
    "#index"
   ]
  },
  {
   "cell_type": "code",
   "execution_count": 47,
   "id": "pressed-memorabilia",
   "metadata": {},
   "outputs": [
    {
     "data": {
      "text/plain": [
       "19"
      ]
     },
     "execution_count": 47,
     "metadata": {},
     "output_type": "execute_result"
    }
   ],
   "source": [
    "a=\"python programming is fun.\"\n",
    "a.index(\"is\")"
   ]
  },
  {
   "cell_type": "code",
   "execution_count": 48,
   "id": "grateful-johns",
   "metadata": {},
   "outputs": [
    {
     "data": {
      "text/plain": [
       "0"
      ]
     },
     "execution_count": 48,
     "metadata": {},
     "output_type": "execute_result"
    }
   ],
   "source": [
    "a.index(\"p\")"
   ]
  },
  {
   "cell_type": "code",
   "execution_count": 49,
   "id": "mounted-nothing",
   "metadata": {},
   "outputs": [
    {
     "data": {
      "text/plain": [
       "25"
      ]
     },
     "execution_count": 49,
     "metadata": {},
     "output_type": "execute_result"
    }
   ],
   "source": [
    "a.index(\".\")"
   ]
  },
  {
   "cell_type": "code",
   "execution_count": 50,
   "id": "little-burning",
   "metadata": {},
   "outputs": [
    {
     "ename": "ValueError",
     "evalue": "substring not found",
     "output_type": "error",
     "traceback": [
      "\u001b[1;31m---------------------------------------------------------------------------\u001b[0m",
      "\u001b[1;31mValueError\u001b[0m                                Traceback (most recent call last)",
      "\u001b[1;32m<ipython-input-50-83f20c7dacad>\u001b[0m in \u001b[0;36m<module>\u001b[1;34m\u001b[0m\n\u001b[1;32m----> 1\u001b[1;33m \u001b[0ma\u001b[0m\u001b[1;33m.\u001b[0m\u001b[0mindex\u001b[0m\u001b[1;33m(\u001b[0m\u001b[1;34m\"java\"\u001b[0m\u001b[1;33m)\u001b[0m\u001b[1;33m\u001b[0m\u001b[1;33m\u001b[0m\u001b[0m\n\u001b[0m",
      "\u001b[1;31mValueError\u001b[0m: substring not found"
     ]
    }
   ],
   "source": [
    "a.index(\"java\")"
   ]
  },
  {
   "cell_type": "code",
   "execution_count": 51,
   "id": "moved-durham",
   "metadata": {},
   "outputs": [
    {
     "name": "stdout",
     "output_type": "stream",
     "text": [
      "15\n",
      "17\n"
     ]
    }
   ],
   "source": [
    "s=\"python programming is fun.\"\n",
    "print(s.index(\"ing\",10))\n",
    "print(s.index(\"g is\", 10, -4))\n"
   ]
  },
  {
   "cell_type": "code",
   "execution_count": 52,
   "id": "generous-neighbor",
   "metadata": {},
   "outputs": [],
   "source": [
    "#isalnum"
   ]
  },
  {
   "cell_type": "code",
   "execution_count": 53,
   "id": "close-quilt",
   "metadata": {},
   "outputs": [
    {
     "data": {
      "text/plain": [
       "True"
      ]
     },
     "execution_count": 53,
     "metadata": {},
     "output_type": "execute_result"
    }
   ],
   "source": [
    "a=\"k567ashok\"\n",
    "a.isalnum()"
   ]
  },
  {
   "cell_type": "code",
   "execution_count": 54,
   "id": "demonstrated-yugoslavia",
   "metadata": {},
   "outputs": [
    {
     "data": {
      "text/plain": [
       "True"
      ]
     },
     "execution_count": 54,
     "metadata": {},
     "output_type": "execute_result"
    }
   ],
   "source": [
    "b=\"2653ashok\"\n",
    "b.isalnum()"
   ]
  },
  {
   "cell_type": "code",
   "execution_count": 55,
   "id": "characteristic-heating",
   "metadata": {},
   "outputs": [
    {
     "data": {
      "text/plain": [
       "True"
      ]
     },
     "execution_count": 55,
     "metadata": {},
     "output_type": "execute_result"
    }
   ],
   "source": [
    "c=\"ashok5365\"\n",
    "c.isalnum()"
   ]
  },
  {
   "cell_type": "code",
   "execution_count": 56,
   "id": "charitable-terrace",
   "metadata": {},
   "outputs": [
    {
     "data": {
      "text/plain": [
       "False"
      ]
     },
     "execution_count": 56,
     "metadata": {},
     "output_type": "execute_result"
    }
   ],
   "source": [
    "# contains whitespace\n",
    "d=\"ashok2425453 \"\n",
    "d.isalnum()"
   ]
  },
  {
   "cell_type": "code",
   "execution_count": 57,
   "id": "uniform-placement",
   "metadata": {},
   "outputs": [
    {
     "data": {
      "text/plain": [
       "False"
      ]
     },
     "execution_count": 57,
     "metadata": {},
     "output_type": "execute_result"
    }
   ],
   "source": [
    "# contains whitespace\n",
    "e=\"ashok5365 jhdwkjn\"\n",
    "e.isalnum()"
   ]
  },
  {
   "cell_type": "code",
   "execution_count": 58,
   "id": "signed-position",
   "metadata": {},
   "outputs": [
    {
     "name": "stdout",
     "output_type": "stream",
     "text": [
      "True\n",
      "False\n",
      "True\n",
      "True\n"
     ]
    }
   ],
   "source": [
    "name = \"M234onica\"\n",
    "print(name.isalnum())\n",
    "\n",
    "# contains whitespace\n",
    "name = \"M3onica Gell22er \"\n",
    "print(name.isalnum())\n",
    "\n",
    "name = \"Mo3nicaGell22er\"\n",
    "print(name.isalnum())\n",
    "\n",
    "name = \"133\"\n",
    "print(name.isalnum())"
   ]
  },
  {
   "cell_type": "code",
   "execution_count": 59,
   "id": "criminal-reasoning",
   "metadata": {},
   "outputs": [],
   "source": [
    "#isalpha"
   ]
  },
  {
   "cell_type": "code",
   "execution_count": 60,
   "id": "ongoing-prediction",
   "metadata": {},
   "outputs": [
    {
     "data": {
      "text/plain": [
       "True"
      ]
     },
     "execution_count": 60,
     "metadata": {},
     "output_type": "execute_result"
    }
   ],
   "source": [
    "a=\"mahiashu\"\n",
    "a.isalpha()"
   ]
  },
  {
   "cell_type": "code",
   "execution_count": 61,
   "id": "continental-detector",
   "metadata": {},
   "outputs": [
    {
     "data": {
      "text/plain": [
       "False"
      ]
     },
     "execution_count": 61,
     "metadata": {},
     "output_type": "execute_result"
    }
   ],
   "source": [
    "a=\"mahi ashu\"\n",
    "a.isalpha()"
   ]
  },
  {
   "cell_type": "code",
   "execution_count": 62,
   "id": "fatal-milan",
   "metadata": {},
   "outputs": [
    {
     "data": {
      "text/plain": [
       "False"
      ]
     },
     "execution_count": 62,
     "metadata": {},
     "output_type": "execute_result"
    }
   ],
   "source": [
    "b=\"23535\"\n",
    "b.isalpha()"
   ]
  },
  {
   "cell_type": "code",
   "execution_count": 63,
   "id": "beginning-booking",
   "metadata": {},
   "outputs": [
    {
     "data": {
      "text/plain": [
       "False"
      ]
     },
     "execution_count": 63,
     "metadata": {},
     "output_type": "execute_result"
    }
   ],
   "source": [
    "b=\"mahi0107\"\n",
    "b.isalpha()"
   ]
  },
  {
   "cell_type": "code",
   "execution_count": 64,
   "id": "graphic-joshua",
   "metadata": {},
   "outputs": [],
   "source": [
    "#isdigit"
   ]
  },
  {
   "cell_type": "code",
   "execution_count": 65,
   "id": "specified-oxford",
   "metadata": {},
   "outputs": [
    {
     "data": {
      "text/plain": [
       "True"
      ]
     },
     "execution_count": 65,
     "metadata": {},
     "output_type": "execute_result"
    }
   ],
   "source": [
    "a=\"123456789\"\n",
    "a.isdigit()"
   ]
  },
  {
   "cell_type": "code",
   "execution_count": 66,
   "id": "pharmaceutical-welding",
   "metadata": {},
   "outputs": [
    {
     "data": {
      "text/plain": [
       "False"
      ]
     },
     "execution_count": 66,
     "metadata": {},
     "output_type": "execute_result"
    }
   ],
   "source": [
    "a=\"35265 6846\"\n",
    "a.isdigit()"
   ]
  },
  {
   "cell_type": "code",
   "execution_count": 67,
   "id": "heavy-result",
   "metadata": {},
   "outputs": [
    {
     "data": {
      "text/plain": [
       "False"
      ]
     },
     "execution_count": 67,
     "metadata": {},
     "output_type": "execute_result"
    }
   ],
   "source": [
    "b=\"mahi0107\"\n",
    "b.isdigit()"
   ]
  },
  {
   "cell_type": "code",
   "execution_count": 68,
   "id": "double-click",
   "metadata": {},
   "outputs": [],
   "source": [
    "#isdecimal"
   ]
  },
  {
   "cell_type": "code",
   "execution_count": 69,
   "id": "decent-buffalo",
   "metadata": {},
   "outputs": [
    {
     "data": {
      "text/plain": [
       "True"
      ]
     },
     "execution_count": 69,
     "metadata": {},
     "output_type": "execute_result"
    }
   ],
   "source": [
    "a=\"12345\"\n",
    "a.isdecimal()"
   ]
  },
  {
   "cell_type": "code",
   "execution_count": 70,
   "id": "blessed-michigan",
   "metadata": {},
   "outputs": [
    {
     "data": {
      "text/plain": [
       "False"
      ]
     },
     "execution_count": 70,
     "metadata": {},
     "output_type": "execute_result"
    }
   ],
   "source": [
    "b=\"35232ashok\"\n",
    "b.isdecimal()"
   ]
  },
  {
   "cell_type": "code",
   "execution_count": 71,
   "id": "central-shopping",
   "metadata": {},
   "outputs": [
    {
     "data": {
      "text/plain": [
       "False"
      ]
     },
     "execution_count": 71,
     "metadata": {},
     "output_type": "execute_result"
    }
   ],
   "source": [
    "c=\"1234 5678\"\n",
    "c.isdecimal()"
   ]
  },
  {
   "cell_type": "code",
   "execution_count": 72,
   "id": "level-preparation",
   "metadata": {},
   "outputs": [
    {
     "data": {
      "text/plain": [
       "True"
      ]
     },
     "execution_count": 72,
     "metadata": {},
     "output_type": "execute_result"
    }
   ],
   "source": [
    "#isidentifier\n",
    "a=\"ashok\"\n",
    "a.isidentifier()"
   ]
  },
  {
   "cell_type": "code",
   "execution_count": 73,
   "id": "prompt-token",
   "metadata": {},
   "outputs": [
    {
     "data": {
      "text/plain": [
       "False"
      ]
     },
     "execution_count": 73,
     "metadata": {},
     "output_type": "execute_result"
    }
   ],
   "source": [
    "b=\"as hok\"\n",
    "b.isidentifier()"
   ]
  },
  {
   "cell_type": "code",
   "execution_count": 74,
   "id": "ceramic-praise",
   "metadata": {},
   "outputs": [
    {
     "data": {
      "text/plain": [
       "False"
      ]
     },
     "execution_count": 74,
     "metadata": {},
     "output_type": "execute_result"
    }
   ],
   "source": [
    "c=\"143love\"\n",
    "c.isidentifier()"
   ]
  },
  {
   "cell_type": "code",
   "execution_count": 75,
   "id": "available-plate",
   "metadata": {},
   "outputs": [
    {
     "data": {
      "text/plain": [
       "False"
      ]
     },
     "execution_count": 75,
     "metadata": {},
     "output_type": "execute_result"
    }
   ],
   "source": [
    "d=\"12345\"\n",
    "d.isidentifier()"
   ]
  },
  {
   "cell_type": "code",
   "execution_count": 76,
   "id": "urban-porcelain",
   "metadata": {},
   "outputs": [],
   "source": [
    "#islower"
   ]
  },
  {
   "cell_type": "code",
   "execution_count": 77,
   "id": "above-commons",
   "metadata": {},
   "outputs": [
    {
     "data": {
      "text/plain": [
       "True"
      ]
     },
     "execution_count": 77,
     "metadata": {},
     "output_type": "execute_result"
    }
   ],
   "source": [
    "a=\"good morning bangalore\"\n",
    "a.islower()"
   ]
  },
  {
   "cell_type": "code",
   "execution_count": 78,
   "id": "accurate-seating",
   "metadata": {},
   "outputs": [
    {
     "data": {
      "text/plain": [
       "True"
      ]
     },
     "execution_count": 78,
     "metadata": {},
     "output_type": "execute_result"
    }
   ],
   "source": [
    "a=\"good morning 123bangalore\"\n",
    "a.islower()"
   ]
  },
  {
   "cell_type": "code",
   "execution_count": 79,
   "id": "steady-pressing",
   "metadata": {},
   "outputs": [
    {
     "data": {
      "text/plain": [
       "False"
      ]
     },
     "execution_count": 79,
     "metadata": {},
     "output_type": "execute_result"
    }
   ],
   "source": [
    "b=\"Good morning hyd\"\n",
    "b.islower()"
   ]
  },
  {
   "cell_type": "code",
   "execution_count": 80,
   "id": "adaptive-differential",
   "metadata": {},
   "outputs": [],
   "source": [
    "#isnumeric"
   ]
  },
  {
   "cell_type": "code",
   "execution_count": 81,
   "id": "finnish-optics",
   "metadata": {},
   "outputs": [
    {
     "data": {
      "text/plain": [
       "True"
      ]
     },
     "execution_count": 81,
     "metadata": {},
     "output_type": "execute_result"
    }
   ],
   "source": [
    "a=\"123456789\"\n",
    "a.isnumeric()"
   ]
  },
  {
   "cell_type": "code",
   "execution_count": 82,
   "id": "demanding-anchor",
   "metadata": {},
   "outputs": [
    {
     "data": {
      "text/plain": [
       "False"
      ]
     },
     "execution_count": 82,
     "metadata": {},
     "output_type": "execute_result"
    }
   ],
   "source": [
    "a=\"12345 6789\"\n",
    "a.isnumeric()"
   ]
  },
  {
   "cell_type": "code",
   "execution_count": 83,
   "id": "about-guinea",
   "metadata": {},
   "outputs": [
    {
     "data": {
      "text/plain": [
       "False"
      ]
     },
     "execution_count": 83,
     "metadata": {},
     "output_type": "execute_result"
    }
   ],
   "source": [
    "a=\"12345a\"\n",
    "a.isnumeric()"
   ]
  },
  {
   "cell_type": "code",
   "execution_count": 84,
   "id": "thirty-indie",
   "metadata": {},
   "outputs": [
    {
     "data": {
      "text/plain": [
       "True"
      ]
     },
     "execution_count": 84,
     "metadata": {},
     "output_type": "execute_result"
    }
   ],
   "source": [
    "b=\"\\u00B23455\"\n",
    "b.isnumeric()"
   ]
  },
  {
   "cell_type": "code",
   "execution_count": 85,
   "id": "several-lancaster",
   "metadata": {},
   "outputs": [
    {
     "data": {
      "text/plain": [
       "True"
      ]
     },
     "execution_count": 85,
     "metadata": {},
     "output_type": "execute_result"
    }
   ],
   "source": [
    "c=\"\\u00BD\"\n",
    "c.isnumeric()"
   ]
  },
  {
   "cell_type": "code",
   "execution_count": 86,
   "id": "differential-illustration",
   "metadata": {},
   "outputs": [
    {
     "data": {
      "text/plain": [
       "189"
      ]
     },
     "execution_count": 86,
     "metadata": {},
     "output_type": "execute_result"
    }
   ],
   "source": [
    "ord(\"\\u00BD\")"
   ]
  },
  {
   "cell_type": "code",
   "execution_count": 87,
   "id": "individual-facial",
   "metadata": {},
   "outputs": [
    {
     "data": {
      "text/plain": [
       "178"
      ]
     },
     "execution_count": 87,
     "metadata": {},
     "output_type": "execute_result"
    }
   ],
   "source": [
    "ord(\"\\u00B2\")"
   ]
  },
  {
   "cell_type": "code",
   "execution_count": 88,
   "id": "favorite-denmark",
   "metadata": {},
   "outputs": [],
   "source": [
    "#isprintable"
   ]
  },
  {
   "cell_type": "code",
   "execution_count": 89,
   "id": "lightweight-march",
   "metadata": {},
   "outputs": [
    {
     "data": {
      "text/plain": [
       "True"
      ]
     },
     "execution_count": 89,
     "metadata": {},
     "output_type": "execute_result"
    }
   ],
   "source": [
    "a=\"hi good morning\"\n",
    "a.isprintable()"
   ]
  },
  {
   "cell_type": "code",
   "execution_count": 90,
   "id": "nasty-draft",
   "metadata": {},
   "outputs": [
    {
     "data": {
      "text/plain": [
       "True"
      ]
     },
     "execution_count": 90,
     "metadata": {},
     "output_type": "execute_result"
    }
   ],
   "source": [
    "b=\"New line is printable\"\n",
    "b.isprintable()"
   ]
  },
  {
   "cell_type": "code",
   "execution_count": 91,
   "id": "figured-detective",
   "metadata": {},
   "outputs": [
    {
     "data": {
      "text/plain": [
       "False"
      ]
     },
     "execution_count": 91,
     "metadata": {},
     "output_type": "execute_result"
    }
   ],
   "source": [
    "b=\"\\new line is printable\"\n",
    "b.isprintable()"
   ]
  },
  {
   "cell_type": "code",
   "execution_count": 92,
   "id": "swedish-improvement",
   "metadata": {},
   "outputs": [
    {
     "data": {
      "text/plain": [
       "True"
      ]
     },
     "execution_count": 92,
     "metadata": {},
     "output_type": "execute_result"
    }
   ],
   "source": [
    "c=\"     \"\n",
    "c.isprintable()"
   ]
  },
  {
   "cell_type": "code",
   "execution_count": 93,
   "id": "beautiful-evans",
   "metadata": {},
   "outputs": [
    {
     "data": {
      "text/plain": [
       "True"
      ]
     },
     "execution_count": 93,
     "metadata": {},
     "output_type": "execute_result"
    }
   ],
   "source": [
    "c=\"hi good morning? nwadkukhhbj 3565632365hjf\"\n",
    "c.isprintable()"
   ]
  },
  {
   "cell_type": "code",
   "execution_count": 94,
   "id": "recreational-wages",
   "metadata": {},
   "outputs": [
    {
     "data": {
      "text/plain": [
       "False"
      ]
     },
     "execution_count": 94,
     "metadata": {},
     "output_type": "execute_result"
    }
   ],
   "source": [
    "c=\"hi good morning? nwadkukhhbj 3565632365hjf \\t\"\n",
    "c.isprintable()"
   ]
  },
  {
   "cell_type": "code",
   "execution_count": 95,
   "id": "dynamic-mercury",
   "metadata": {},
   "outputs": [],
   "source": [
    "#isspace"
   ]
  },
  {
   "cell_type": "code",
   "execution_count": 96,
   "id": "fifth-december",
   "metadata": {},
   "outputs": [
    {
     "data": {
      "text/plain": [
       "False"
      ]
     },
     "execution_count": 96,
     "metadata": {},
     "output_type": "execute_result"
    }
   ],
   "source": [
    "a=\"mahi\"\n",
    "a.isspace()"
   ]
  },
  {
   "cell_type": "code",
   "execution_count": 97,
   "id": "active-december",
   "metadata": {},
   "outputs": [
    {
     "data": {
      "text/plain": [
       "True"
      ]
     },
     "execution_count": 97,
     "metadata": {},
     "output_type": "execute_result"
    }
   ],
   "source": [
    "a=\" \\t \"\n",
    "a.isspace()"
   ]
  },
  {
   "cell_type": "code",
   "execution_count": 98,
   "id": "academic-hearts",
   "metadata": {},
   "outputs": [
    {
     "data": {
      "text/plain": [
       "True"
      ]
     },
     "execution_count": 98,
     "metadata": {},
     "output_type": "execute_result"
    }
   ],
   "source": [
    "b=\"   \"\n",
    "b.isspace()"
   ]
  },
  {
   "cell_type": "code",
   "execution_count": 99,
   "id": "boolean-rates",
   "metadata": {},
   "outputs": [
    {
     "data": {
      "text/plain": [
       "False"
      ]
     },
     "execution_count": 99,
     "metadata": {},
     "output_type": "execute_result"
    }
   ],
   "source": [
    "c=\"  as   \"\n",
    "c.isspace()"
   ]
  },
  {
   "cell_type": "code",
   "execution_count": 100,
   "id": "royal-mounting",
   "metadata": {},
   "outputs": [
    {
     "data": {
      "text/plain": [
       "True"
      ]
     },
     "execution_count": 100,
     "metadata": {},
     "output_type": "execute_result"
    }
   ],
   "source": [
    "c=\"\\n\"\n",
    "c.isspace()"
   ]
  },
  {
   "cell_type": "code",
   "execution_count": 101,
   "id": "gothic-telling",
   "metadata": {},
   "outputs": [
    {
     "data": {
      "text/plain": [
       "True"
      ]
     },
     "execution_count": 101,
     "metadata": {},
     "output_type": "execute_result"
    }
   ],
   "source": [
    "c=\" \"\n",
    "c.isspace()"
   ]
  },
  {
   "cell_type": "code",
   "execution_count": 102,
   "id": "processed-lending",
   "metadata": {},
   "outputs": [],
   "source": [
    "#istitle"
   ]
  },
  {
   "cell_type": "code",
   "execution_count": 103,
   "id": "alpine-insight",
   "metadata": {},
   "outputs": [
    {
     "data": {
      "text/plain": [
       "True"
      ]
     },
     "execution_count": 103,
     "metadata": {},
     "output_type": "execute_result"
    }
   ],
   "source": [
    "a=\"Welcome To Python\"\n",
    "a.istitle()"
   ]
  },
  {
   "cell_type": "code",
   "execution_count": 104,
   "id": "reduced-texture",
   "metadata": {},
   "outputs": [
    {
     "data": {
      "text/plain": [
       "False"
      ]
     },
     "execution_count": 104,
     "metadata": {},
     "output_type": "execute_result"
    }
   ],
   "source": [
    "a=\"welcome to python\"\n",
    "a.istitle()"
   ]
  },
  {
   "cell_type": "code",
   "execution_count": 105,
   "id": "front-scanner",
   "metadata": {},
   "outputs": [
    {
     "data": {
      "text/plain": [
       "True"
      ]
     },
     "execution_count": 105,
     "metadata": {},
     "output_type": "execute_result"
    }
   ],
   "source": [
    "b=\"Python Is 1 Place\"\n",
    "b.istitle()"
   ]
  },
  {
   "cell_type": "code",
   "execution_count": 106,
   "id": "hawaiian-exhibit",
   "metadata": {},
   "outputs": [
    {
     "data": {
      "text/plain": [
       "False"
      ]
     },
     "execution_count": 106,
     "metadata": {},
     "output_type": "execute_result"
    }
   ],
   "source": [
    "b=\"PYTHON IS BEST\"\n",
    "b.istitle()"
   ]
  },
  {
   "cell_type": "code",
   "execution_count": 107,
   "id": "governmental-morrison",
   "metadata": {},
   "outputs": [],
   "source": [
    "#isupper"
   ]
  },
  {
   "cell_type": "code",
   "execution_count": 108,
   "id": "physical-crime",
   "metadata": {},
   "outputs": [
    {
     "data": {
      "text/plain": [
       "True"
      ]
     },
     "execution_count": 108,
     "metadata": {},
     "output_type": "execute_result"
    }
   ],
   "source": [
    "a=\"KOMMIASHOK\"\n",
    "a.isupper()"
   ]
  },
  {
   "cell_type": "code",
   "execution_count": 109,
   "id": "integral-coast",
   "metadata": {},
   "outputs": [
    {
     "data": {
      "text/plain": [
       "True"
      ]
     },
     "execution_count": 109,
     "metadata": {},
     "output_type": "execute_result"
    }
   ],
   "source": [
    "a=\"KOMMMI ASHOK\"\n",
    "a.isupper()"
   ]
  },
  {
   "cell_type": "code",
   "execution_count": 110,
   "id": "basic-drive",
   "metadata": {},
   "outputs": [
    {
     "data": {
      "text/plain": [
       "True"
      ]
     },
     "execution_count": 110,
     "metadata": {},
     "output_type": "execute_result"
    }
   ],
   "source": [
    "a=\"KOMMI 235 ASHOK\"\n",
    "a.isupper()"
   ]
  },
  {
   "cell_type": "code",
   "execution_count": 111,
   "id": "refined-armor",
   "metadata": {},
   "outputs": [
    {
     "data": {
      "text/plain": [
       "False"
      ]
     },
     "execution_count": 111,
     "metadata": {},
     "output_type": "execute_result"
    }
   ],
   "source": [
    "b=\"KOMMI ASHOk\"\n",
    "b.isupper()"
   ]
  },
  {
   "cell_type": "code",
   "execution_count": 112,
   "id": "smooth-basin",
   "metadata": {},
   "outputs": [],
   "source": [
    "#join"
   ]
  },
  {
   "cell_type": "code",
   "execution_count": 113,
   "id": "liked-labor",
   "metadata": {},
   "outputs": [
    {
     "name": "stdout",
     "output_type": "stream",
     "text": [
      "1, 2, 3, 4, 5\n"
     ]
    }
   ],
   "source": [
    "a=[\"1\", \"2\", \"3\", \"4\", \"5\"]\n",
    "s=\", \"\n",
    "print(s.join(a))"
   ]
  },
  {
   "cell_type": "code",
   "execution_count": 114,
   "id": "optical-church",
   "metadata": {},
   "outputs": [
    {
     "name": "stdout",
     "output_type": "stream",
     "text": [
      "1abc2abc3\n",
      "a123b123c\n"
     ]
    }
   ],
   "source": [
    "a1=\"abc\"\n",
    "a2=\"123\"\n",
    "print(a1.join(a2))\n",
    "print(a2.join(a1))"
   ]
  },
  {
   "cell_type": "code",
   "execution_count": 115,
   "id": "running-vaccine",
   "metadata": {},
   "outputs": [
    {
     "data": {
      "text/plain": [
       "'welcome to python'"
      ]
     },
     "execution_count": 115,
     "metadata": {},
     "output_type": "execute_result"
    }
   ],
   "source": [
    "s=\"welcome\", \"to\", \"python\"\n",
    "sep=\" \"\n",
    "sep.join(s)"
   ]
  },
  {
   "cell_type": "code",
   "execution_count": 116,
   "id": "medical-lemon",
   "metadata": {},
   "outputs": [],
   "source": [
    "#ljust"
   ]
  },
  {
   "cell_type": "code",
   "execution_count": 117,
   "id": "molecular-domain",
   "metadata": {},
   "outputs": [
    {
     "data": {
      "text/plain": [
       "'ashok*****'"
      ]
     },
     "execution_count": 117,
     "metadata": {},
     "output_type": "execute_result"
    }
   ],
   "source": [
    "a=\"ashok\"\n",
    "width=10\n",
    "fillchar=\"*\"\n",
    "a.ljust(width,fillchar)"
   ]
  },
  {
   "cell_type": "code",
   "execution_count": 118,
   "id": "respective-thanks",
   "metadata": {},
   "outputs": [
    {
     "data": {
      "text/plain": [
       "'mahi      '"
      ]
     },
     "execution_count": 118,
     "metadata": {},
     "output_type": "execute_result"
    }
   ],
   "source": [
    "b=\"mahi\"\n",
    "width=10\n",
    "b.ljust(width)"
   ]
  },
  {
   "cell_type": "code",
   "execution_count": 120,
   "id": "stretch-president",
   "metadata": {},
   "outputs": [],
   "source": [
    "#rpartition"
   ]
  },
  {
   "cell_type": "code",
   "execution_count": 121,
   "id": "inappropriate-musical",
   "metadata": {},
   "outputs": [
    {
     "data": {
      "text/plain": [
       "('python is good, ', \"it's easy to understand\", '')"
      ]
     },
     "execution_count": 121,
     "metadata": {},
     "output_type": "execute_result"
    }
   ],
   "source": [
    "a=\"python is good, it's easy to understand\"\n",
    "a.rpartition(\"it's easy to understand\")"
   ]
  },
  {
   "cell_type": "code",
   "execution_count": 122,
   "id": "passive-wichita",
   "metadata": {},
   "outputs": [
    {
     "data": {
      "text/plain": [
       "('', '', 'all is good')"
      ]
     },
     "execution_count": 122,
     "metadata": {},
     "output_type": "execute_result"
    }
   ],
   "source": [
    "a=\"all is good\"\n",
    "a.rpartition(\"not\")"
   ]
  },
  {
   "cell_type": "code",
   "execution_count": 123,
   "id": "productive-ribbon",
   "metadata": {},
   "outputs": [
    {
     "data": {
      "text/plain": [
       "('', '', \"all is good, but it's depends on you\")"
      ]
     },
     "execution_count": 123,
     "metadata": {},
     "output_type": "execute_result"
    }
   ],
   "source": [
    "a=\"all is good, but it's depends on you\"\n",
    "a.rpartition(\"not you\")"
   ]
  },
  {
   "cell_type": "code",
   "execution_count": 124,
   "id": "nutritional-capitol",
   "metadata": {},
   "outputs": [],
   "source": [
    "#rspit"
   ]
  },
  {
   "cell_type": "code",
   "execution_count": 125,
   "id": "unexpected-alexandria",
   "metadata": {},
   "outputs": [
    {
     "data": {
      "text/plain": [
       "['i', 'love', 'Amaravathi']"
      ]
     },
     "execution_count": 125,
     "metadata": {},
     "output_type": "execute_result"
    }
   ],
   "source": [
    "a=\"i love Amaravathi\"\n",
    "a.rsplit()"
   ]
  },
  {
   "cell_type": "code",
   "execution_count": 126,
   "id": "olive-representative",
   "metadata": {},
   "outputs": [
    {
     "data": {
      "text/plain": [
       "['banana,', 'apple,', 'mango,', 'orange']"
      ]
     },
     "execution_count": 126,
     "metadata": {},
     "output_type": "execute_result"
    }
   ],
   "source": [
    "b=\"banana, apple, mango, orange\"\n",
    "b.rsplit()"
   ]
  },
  {
   "cell_type": "code",
   "execution_count": 127,
   "id": "played-steering",
   "metadata": {},
   "outputs": [
    {
     "data": {
      "text/plain": [
       "['banana', 'apple', 'mango', 'orange']"
      ]
     },
     "execution_count": 127,
     "metadata": {},
     "output_type": "execute_result"
    }
   ],
   "source": [
    "b=\"banana, apple, mango, orange\"\n",
    "b.rsplit(\", \")"
   ]
  },
  {
   "cell_type": "code",
   "execution_count": 128,
   "id": "working-notion",
   "metadata": {},
   "outputs": [
    {
     "data": {
      "text/plain": [
       "['banana, apple, mango, orange']"
      ]
     },
     "execution_count": 128,
     "metadata": {},
     "output_type": "execute_result"
    }
   ],
   "source": [
    "b=\"banana, apple, mango, orange\"\n",
    "b.rsplit(\":\")"
   ]
  },
  {
   "cell_type": "code",
   "execution_count": 129,
   "id": "desirable-training",
   "metadata": {},
   "outputs": [],
   "source": [
    "#rstrip"
   ]
  },
  {
   "cell_type": "code",
   "execution_count": 130,
   "id": "negative-burning",
   "metadata": {},
   "outputs": [
    {
     "data": {
      "text/plain": [
       "'welcom to python'"
      ]
     },
     "execution_count": 130,
     "metadata": {},
     "output_type": "execute_result"
    }
   ],
   "source": [
    "a=\"welcom to python\"\n",
    "a.rstrip()"
   ]
  },
  {
   "cell_type": "code",
   "execution_count": 131,
   "id": "involved-sleeping",
   "metadata": {},
   "outputs": [
    {
     "data": {
      "text/plain": [
       "'this is g'"
      ]
     },
     "execution_count": 131,
     "metadata": {},
     "output_type": "execute_result"
    }
   ],
   "source": [
    "a=\"this is good\"\n",
    "a.rstrip('d oo')"
   ]
  },
  {
   "cell_type": "code",
   "execution_count": 132,
   "id": "concrete-biography",
   "metadata": {},
   "outputs": [
    {
     "data": {
      "text/plain": [
       "'www.python.org'"
      ]
     },
     "execution_count": 132,
     "metadata": {},
     "output_type": "execute_result"
    }
   ],
   "source": [
    "b=\"www.python.org/\"\n",
    "b.rstrip(\"s/.\")"
   ]
  },
  {
   "cell_type": "code",
   "execution_count": 133,
   "id": "opponent-address",
   "metadata": {},
   "outputs": [
    {
     "name": "stdout",
     "output_type": "stream",
     "text": [
      " this is good\n"
     ]
    }
   ],
   "source": [
    "random_string = ' this is good'\n",
    "print(random_string.rstrip())\n",
    "\n"
   ]
  },
  {
   "cell_type": "code",
   "execution_count": 134,
   "id": "motivated-puzzle",
   "metadata": {},
   "outputs": [
    {
     "name": "stdout",
     "output_type": "stream",
     "text": [
      " this is good\n"
     ]
    }
   ],
   "source": [
    "print(random_string.rstrip('si oo'))\n"
   ]
  },
  {
   "cell_type": "code",
   "execution_count": 135,
   "id": "valuable-sacrifice",
   "metadata": {},
   "outputs": [
    {
     "name": "stdout",
     "output_type": "stream",
     "text": [
      " this is g\n"
     ]
    }
   ],
   "source": [
    "print(random_string.rstrip('d oo'))\n"
   ]
  },
  {
   "cell_type": "code",
   "execution_count": 136,
   "id": "wireless-meaning",
   "metadata": {},
   "outputs": [],
   "source": [
    "#split"
   ]
  },
  {
   "cell_type": "code",
   "execution_count": 137,
   "id": "eligible-hybrid",
   "metadata": {},
   "outputs": [
    {
     "data": {
      "text/plain": [
       "['love', 'the', 'nation']"
      ]
     },
     "execution_count": 137,
     "metadata": {},
     "output_type": "execute_result"
    }
   ],
   "source": [
    "a=\"love the nation\"\n",
    "a.split()"
   ]
  },
  {
   "cell_type": "code",
   "execution_count": 138,
   "id": "appointed-symphony",
   "metadata": {},
   "outputs": [
    {
     "data": {
      "text/plain": [
       "['love the nation']"
      ]
     },
     "execution_count": 138,
     "metadata": {},
     "output_type": "execute_result"
    }
   ],
   "source": [
    "a.split(\", \")"
   ]
  },
  {
   "cell_type": "code",
   "execution_count": 139,
   "id": "agricultural-syntax",
   "metadata": {},
   "outputs": [
    {
     "data": {
      "text/plain": [
       "['love the nation']"
      ]
     },
     "execution_count": 139,
     "metadata": {},
     "output_type": "execute_result"
    }
   ],
   "source": [
    "a.split(\":\")"
   ]
  },
  {
   "cell_type": "code",
   "execution_count": 140,
   "id": "mechanical-refrigerator",
   "metadata": {},
   "outputs": [],
   "source": [
    "#swapcase"
   ]
  },
  {
   "cell_type": "code",
   "execution_count": 141,
   "id": "studied-texture",
   "metadata": {},
   "outputs": [
    {
     "data": {
      "text/plain": [
       "'WELCOME TO PYTHON'"
      ]
     },
     "execution_count": 141,
     "metadata": {},
     "output_type": "execute_result"
    }
   ],
   "source": [
    "a=\"welcome to python\"\n",
    "a.swapcase()"
   ]
  },
  {
   "cell_type": "code",
   "execution_count": 142,
   "id": "controversial-coordination",
   "metadata": {},
   "outputs": [
    {
     "data": {
      "text/plain": [
       "'welcome to python'"
      ]
     },
     "execution_count": 142,
     "metadata": {},
     "output_type": "execute_result"
    }
   ],
   "source": [
    "b=\"WELCOME TO PYTHON\"\n",
    "b.swapcase()"
   ]
  },
  {
   "cell_type": "code",
   "execution_count": 143,
   "id": "removable-junction",
   "metadata": {},
   "outputs": [
    {
     "data": {
      "text/plain": [
       "'wElCoMe tO pYtHoN'"
      ]
     },
     "execution_count": 143,
     "metadata": {},
     "output_type": "execute_result"
    }
   ],
   "source": [
    "c=\"WeLcOmE To PyThOn\"\n",
    "c.swapcase()"
   ]
  },
  {
   "cell_type": "code",
   "execution_count": 144,
   "id": "developed-stage",
   "metadata": {},
   "outputs": [],
   "source": [
    "#title"
   ]
  },
  {
   "cell_type": "code",
   "execution_count": 145,
   "id": "competitive-ancient",
   "metadata": {},
   "outputs": [
    {
     "data": {
      "text/plain": [
       "'I Love Amaravathi'"
      ]
     },
     "execution_count": 145,
     "metadata": {},
     "output_type": "execute_result"
    }
   ],
   "source": [
    "a=\"i love amaravathi\"\n",
    "a.title()"
   ]
  },
  {
   "cell_type": "code",
   "execution_count": 146,
   "id": "exclusive-jewel",
   "metadata": {},
   "outputs": [
    {
     "data": {
      "text/plain": [
       "'I 143 Andhra'"
      ]
     },
     "execution_count": 146,
     "metadata": {},
     "output_type": "execute_result"
    }
   ],
   "source": [
    "b=\"i 143 andhra\"\n",
    "b.title()"
   ]
  },
  {
   "cell_type": "code",
   "execution_count": 147,
   "id": "seven-blade",
   "metadata": {},
   "outputs": [],
   "source": [
    "#upper()"
   ]
  },
  {
   "cell_type": "code",
   "execution_count": 148,
   "id": "considerable-willow",
   "metadata": {},
   "outputs": [
    {
     "data": {
      "text/plain": [
       "'GOOD MORNING TIRUPATI'"
      ]
     },
     "execution_count": 148,
     "metadata": {},
     "output_type": "execute_result"
    }
   ],
   "source": [
    "a=\"good morning tirupati\"\n",
    "a.upper()"
   ]
  },
  {
   "cell_type": "code",
   "execution_count": 149,
   "id": "known-creature",
   "metadata": {},
   "outputs": [
    {
     "data": {
      "text/plain": [
       "'I 143 TIRUPATI'"
      ]
     },
     "execution_count": 149,
     "metadata": {},
     "output_type": "execute_result"
    }
   ],
   "source": [
    "b=\"i 143 tirupati\"\n",
    "b.upper()"
   ]
  },
  {
   "cell_type": "code",
   "execution_count": 150,
   "id": "nervous-thirty",
   "metadata": {},
   "outputs": [],
   "source": [
    "#zfill"
   ]
  },
  {
   "cell_type": "code",
   "execution_count": 151,
   "id": "olive-gentleman",
   "metadata": {},
   "outputs": [
    {
     "data": {
      "text/plain": [
       "'000000python is good'"
      ]
     },
     "execution_count": 151,
     "metadata": {},
     "output_type": "execute_result"
    }
   ],
   "source": [
    "a=\"python is good\"\n",
    "a.zfill(20)"
   ]
  },
  {
   "cell_type": "code",
   "execution_count": null,
   "id": "arranged-oriental",
   "metadata": {},
   "outputs": [],
   "source": []
  }
 ],
 "metadata": {
  "kernelspec": {
   "display_name": "Python 3",
   "language": "python",
   "name": "python3"
  },
  "language_info": {
   "codemirror_mode": {
    "name": "ipython",
    "version": 3
   },
   "file_extension": ".py",
   "mimetype": "text/x-python",
   "name": "python",
   "nbconvert_exporter": "python",
   "pygments_lexer": "ipython3",
   "version": "3.9.0"
  }
 },
 "nbformat": 4,
 "nbformat_minor": 5
}
